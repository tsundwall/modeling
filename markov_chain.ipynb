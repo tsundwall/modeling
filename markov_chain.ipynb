{
 "cells": [
  {
   "cell_type": "code",
   "execution_count": 2,
   "id": "8e4bb7c6-17a3-4aa0-8407-ae25b67e6363",
   "metadata": {},
   "outputs": [],
   "source": [
    "import numpy as np\n",
    "import pandas as pd\n",
    "from matplotlib import pyplot as plt\n",
    "import re\n",
    "import math\n"
   ]
  },
  {
   "cell_type": "code",
   "execution_count": 61,
   "id": "5bc4621e-a9e5-4579-9e5d-29a838c584b5",
   "metadata": {},
   "outputs": [
    {
     "name": "stdout",
     "output_type": "stream",
     "text": [
      "Transfer Function G(s)\n"
     ]
    },
    {
     "data": {
      "text/latex": [
       "$\\displaystyle \\left[\\begin{matrix}\\frac{s^{4} + 16 s^{3} + 91 s^{2} + 216 s + 180}{s^{6} + 21 s^{5} + 175 s^{4} + 735 s^{3} + 1624 s^{2} + 1764 s + 719} & \\frac{1}{s^{6} + 21 s^{5} + 175 s^{4} + 735 s^{3} + 1624 s^{2} + 1764 s + 719} & \\frac{s^{2} + 7 s + 10}{s^{6} + 21 s^{5} + 175 s^{4} + 735 s^{3} + 1624 s^{2} + 1764 s + 719}\\\\\\frac{s^{2} + 9 s + 18}{s^{6} + 21 s^{5} + 175 s^{4} + 735 s^{3} + 1624 s^{2} + 1764 s + 719} & \\frac{s^{4} + 14 s^{3} + 67 s^{2} + 126 s + 72}{s^{6} + 21 s^{5} + 175 s^{4} + 735 s^{3} + 1624 s^{2} + 1764 s + 719} & \\frac{1}{s^{6} + 21 s^{5} + 175 s^{4} + 735 s^{3} + 1624 s^{2} + 1764 s + 719}\\\\\\frac{1}{s^{6} + 21 s^{5} + 175 s^{4} + 735 s^{3} + 1624 s^{2} + 1764 s + 719} & \\frac{s^{2} + 5 s + 4}{s^{6} + 21 s^{5} + 175 s^{4} + 735 s^{3} + 1624 s^{2} + 1764 s + 719} & \\frac{s^{4} + 12 s^{3} + 49 s^{2} + 78 s + 40}{s^{6} + 21 s^{5} + 175 s^{4} + 735 s^{3} + 1624 s^{2} + 1764 s + 719}\\end{matrix}\\right]$"
      ],
      "text/plain": [
       "Matrix([\n",
       "[(s**4 + 16*s**3 + 91*s**2 + 216*s + 180)/(s**6 + 21*s**5 + 175*s**4 + 735*s**3 + 1624*s**2 + 1764*s + 719),                                       1/(s**6 + 21*s**5 + 175*s**4 + 735*s**3 + 1624*s**2 + 1764*s + 719),                      (s**2 + 7*s + 10)/(s**6 + 21*s**5 + 175*s**4 + 735*s**3 + 1624*s**2 + 1764*s + 719)],\n",
       "[                       (s**2 + 9*s + 18)/(s**6 + 21*s**5 + 175*s**4 + 735*s**3 + 1624*s**2 + 1764*s + 719), (s**4 + 14*s**3 + 67*s**2 + 126*s + 72)/(s**6 + 21*s**5 + 175*s**4 + 735*s**3 + 1624*s**2 + 1764*s + 719),                                      1/(s**6 + 21*s**5 + 175*s**4 + 735*s**3 + 1624*s**2 + 1764*s + 719)],\n",
       "[                                       1/(s**6 + 21*s**5 + 175*s**4 + 735*s**3 + 1624*s**2 + 1764*s + 719),                        (s**2 + 5*s + 4)/(s**6 + 21*s**5 + 175*s**4 + 735*s**3 + 1624*s**2 + 1764*s + 719), (s**4 + 12*s**3 + 49*s**2 + 78*s + 40)/(s**6 + 21*s**5 + 175*s**4 + 735*s**3 + 1624*s**2 + 1764*s + 719)]])"
      ]
     },
     "metadata": {},
     "output_type": "display_data"
    }
   ],
   "source": [
    "import sympy as sp # use for variables in computation\n",
    "\n",
    "A = np.array([[-1, 0, 0, 1, 0, 0],\n",
    "               [ 0,-2, 0, 0, 1, 0],\n",
    "               [ 0, 0,-3, 0, 0, 1],\n",
    "               [ 0, 0, 1,-4, 0, 0],\n",
    "               [ 1, 0, 0, 0,-5, 0],\n",
    "               [ 0, 1, 0, 0, 0,-6]])\n",
    "\n",
    "A = sp.Matrix(A)\n",
    "\n",
    "B = np.array([[0,0,0],\n",
    "               [0,0,0],\n",
    "               [0,0,0],\n",
    "               [1,0,0],\n",
    "               [0,1,0],\n",
    "               [0,0,1]])\n",
    "\n",
    "B = sp.Matrix(B)\n",
    "\n",
    "C = np.array([[1,0,0,0,0,0],\n",
    "               [0,1,0,0,0,0],\n",
    "               [0,0,1,0,0,0]])\n",
    "\n",
    "C = sp.Matrix(C)\n",
    "\n",
    "I = sp.eye(A.shape[0])\n",
    "\n",
    "I = sp.Matrix(I)\n",
    "\n",
    "s = sp.symbols(\"s\")\n",
    "\n",
    "inner = s*I - A\n",
    "transFunc = C*(inner**-1)*B\n",
    "\n",
    "print(\"Transfer Function G(s)\")\n",
    "sp.pprint(transFunc) #no D matrix"
   ]
  },
  {
   "cell_type": "code",
   "execution_count": 62,
   "id": "08747851-372a-4e4c-8eeb-df2cee131edd",
   "metadata": {},
   "outputs": [
    {
     "name": "stdout",
     "output_type": "stream",
     "text": [
      "Q Matrix\n"
     ]
    },
    {
     "data": {
      "text/latex": [
       "$\\displaystyle \\left[\\begin{matrix}0 & 0 & \\frac{1}{\\left(s + 1\\right) \\left(s + 4\\right)}\\\\\\frac{1}{\\left(s + 2\\right) \\left(s + 5\\right)} & 0 & 0\\\\0 & \\frac{1}{\\left(s + 3\\right) \\left(s + 6\\right)} & 0\\end{matrix}\\right]$"
      ],
      "text/plain": [
       "Matrix([\n",
       "[                  0,                   0, 1/((s + 1)*(s + 4))],\n",
       "[1/((s + 2)*(s + 5)),                   0,                   0],\n",
       "[                  0, 1/((s + 3)*(s + 6)),                   0]])"
      ]
     },
     "metadata": {},
     "output_type": "display_data"
    },
    {
     "name": "stdout",
     "output_type": "stream",
     "text": [
      "P Matrix\n"
     ]
    },
    {
     "data": {
      "text/latex": [
       "$\\displaystyle \\left[\\begin{matrix}\\frac{1}{\\left(s + 1\\right) \\left(s + 4\\right)} & 0 & 0\\\\0 & \\frac{1}{\\left(s + 2\\right) \\left(s + 5\\right)} & 0\\\\0 & 0 & \\frac{1}{\\left(s + 3\\right) \\left(s + 6\\right)}\\end{matrix}\\right]$"
      ],
      "text/plain": [
       "Matrix([\n",
       "[1/((s + 1)*(s + 4)),                   0,                   0],\n",
       "[                  0, 1/((s + 2)*(s + 5)),                   0],\n",
       "[                  0,                   0, 1/((s + 3)*(s + 6))]])"
      ]
     },
     "metadata": {},
     "output_type": "display_data"
    }
   ],
   "source": [
    "#rows of C informs us of # of visible states (observables states y_i)\n",
    "vStates = C.shape[0]\n",
    "#A matrix is partitioned into 2x2 matrix where row 2 are the hidden states and column 2 \n",
    "A11 = A[:vStates,:vStates]\n",
    "A12 = A[:vStates,vStates:]\n",
    "A21 = A[vStates:,:vStates]\n",
    "A22 = A[vStates:,vStates:]\n",
    "B1 = B[:vStates,:vStates]\n",
    "B2 = B[vStates:,:]\n",
    "\n",
    "I = sp.eye(A22.shape[0])\n",
    "\n",
    "I = sp.Matrix(I)\n",
    "\n",
    "s = sp.symbols(\"s\")\n",
    "\n",
    "inner = (s*I - A22)**-1\n",
    "\n",
    "W = A11 + A12 * inner * A21\n",
    "\n",
    "V  = A12 * inner * B2 + B1\n",
    "\n",
    "#need matrix of W diagonals\n",
    "D = sp.Matrix(np.diag(np.diag(W)))\n",
    "\n",
    "leftQ = (s*I - D)**-1\n",
    "rightQ = (W-D)\n",
    "Q = leftQ * rightQ\n",
    "P = leftQ * V\n",
    "\n",
    "print(\"Q Matrix\")\n",
    "sp.pprint(Q)\n",
    "print(\"P Matrix\")\n",
    "sp.pprint(P)"
   ]
  },
  {
   "cell_type": "code",
   "execution_count": 64,
   "id": "7b88da89-66aa-4b84-bb57-10f24e14d74a",
   "metadata": {},
   "outputs": [
    {
     "name": "stdout",
     "output_type": "stream",
     "text": [
      "Are these functions identical?\n",
      "True\n"
     ]
    }
   ],
   "source": [
    "###Verify G(s) as a derivation from DSF\n",
    "\n",
    "\n",
    "inner = (I - Q)**-1\n",
    "transFuncDSF = sp.simplify(inner * P)\n",
    "\n",
    "print(\"Are these functions identical?\")\n",
    "print(transFuncDSF == transFunc)\n"
   ]
  },
  {
   "cell_type": "code",
   "execution_count": 43,
   "id": "115cedce-4279-4410-ad82-c7c720b292da",
   "metadata": {},
   "outputs": [
    {
     "name": "stderr",
     "output_type": "stream",
     "text": [
      "C:\\Users\\Tanner\\AppData\\Local\\Temp\\ipykernel_26140\\1795452008.py:53: RuntimeWarning: invalid value encountered in true_divide\n",
      "  mat[state] = mat[state] / freq\n"
     ]
    }
   ],
   "source": [
    "##QUESTION 3##\n",
    "\n",
    "df = pd.read_csv(\"gordonGamel.csv\")\n",
    "\n",
    "dfGordon = df[df[\"batter\"] == \"Gordon\"]\n",
    "dfGamel = df[df[\"batter\"] == \"Gamel\"]\n",
    "\n",
    "dfGordon = dfGordon.reset_index(drop=True)\n",
    "dfGamel = dfGamel.reset_index(drop=True)\n",
    "\n",
    "r = 24\n",
    "c = 25\n",
    "\n",
    "statesBases = [0,1]\n",
    "\n",
    "statesNames = []\n",
    "\n",
    "def genStates():\n",
    "    \n",
    "    for firstBase in statesBases:\n",
    "        \n",
    "        for secondBase in statesBases:\n",
    "            \n",
    "            for thirdBase in statesBases:\n",
    "                \n",
    "                for outs in [0,1,2]:\n",
    "                    \n",
    "                    statesNames.append(str(firstBase) + str(secondBase) + str(thirdBase) + \" \" + str(outs))\n",
    "\n",
    "genStates()\n",
    "                    \n",
    "statesNamesR = statesNames\n",
    "statesNamesC = statesNames\n",
    "\n",
    "statesNamesC.append(\"3\")\n",
    "\n",
    "matGordon = np.zeros((r,c))\n",
    "matGamel = np.zeros((r,c))\n",
    "\n",
    "def transitionMatrix(df, mat):\n",
    "\n",
    "    for atBat in range(len(df)):\n",
    "\n",
    "        currState = df[\"STATE\"][atBat]\n",
    "        endState = df[\"NEW.STATE\"][atBat]\n",
    "\n",
    "        rowIndex = statesNamesR.index(currState)\n",
    "        colIndex = statesNamesC.index(endState)\n",
    "\n",
    "        mat[rowIndex, colIndex] += 1\n",
    "        \n",
    "    for state in range(r):\n",
    "        \n",
    "        freq = np.sum(mat[state])\n",
    "        mat[state] = mat[state] / freq\n",
    "                       \n",
    "        \n",
    "        \n",
    "\n",
    "transitionMatrix(dfGordon, matGordon)\n",
    "transitionMatrix(dfGamel, matGamel)\n",
    "\n",
    "\n",
    "mlbAvgStates = pd.read_csv(\"MLBAVG.csv\")\n",
    "mlbAvgStates = mlbAvgStates.drop('Unnamed: 0', axis=1)\n",
    "mlbAvgStates = mlbAvgStates.to_numpy()"
   ]
  },
  {
   "cell_type": "code",
   "execution_count": 4,
   "id": "a1a46d42-1fe6-41b9-97ed-d7aad2e33a96",
   "metadata": {},
   "outputs": [],
   "source": [
    "def getNullRows(mat):\n",
    "\n",
    "    nans = np.isnan(mat.T[0])\n",
    "\n",
    "    nans = [i for i, x in enumerate(nans) if x]\n",
    "    \n",
    "    return nans\n",
    "    \n",
    "nullRowsGordon = getNullRows(matGordon)\n",
    "nullRowsGamel = getNullRows(matGamel)\n",
    "\n",
    "for eachNullRow in nullRowsGordon:\n",
    "    \n",
    "    matGordon[eachNullRow] = mlbAvgStates[eachNullRow]\n",
    "    \n",
    "for eachNullRow in nullRowsGamel:\n",
    "    \n",
    "    matGamel[eachNullRow] = mlbAvgStates[eachNullRow]"
   ]
  },
  {
   "cell_type": "markdown",
   "id": "0d76c807-2cce-47f0-ab8e-daaed87b3080",
   "metadata": {},
   "source": [
    "Part 3: \n",
    "\n",
    "For starters, using the same values for these states on both players will surpress their differences in performance, which is the main goal of our markov chain analysis. The reason why this metric in particular might be an issue, is that assuming both of these players are below average (they both bat ninth), this could boost runs/game past would would be expected. This shouldn't affect their relative position from each other, however. That issue can be resolved by assuming different distributions for each player for those empty states. A few ideas to fill these states could be:\n",
    "\n",
    "-Average distrubtion across other initial states for that player\n",
    "\n",
    "-Weighted average distribution, weights dependent on how often that initial state occurred (essentially a vector of outcome states for that player)\n",
    "\n",
    "-Replicate the distribution of a similar state (i.e. if $011 2$ is an unobserved state, infer that it will be a similar distribution to, say, $001 2$)"
   ]
  },
  {
   "cell_type": "code",
   "execution_count": 27,
   "id": "f16fdb18-8ee4-43fa-b2dc-6ef4b3540039",
   "metadata": {},
   "outputs": [],
   "source": [
    "runsMatrix = pd.read_csv(\"runs.csv\")\n",
    "runsMatrix = runsMatrix.drop('Unnamed: 0', axis=1)\n",
    "runsMatrix = runsMatrix.to_numpy()\n",
    "\n",
    "def batting_sim(lineup, games=162):\n",
    "    \n",
    "    totalRuns = 0\n",
    "    \n",
    "    for game in range(games):\n",
    "\n",
    "        currBatterPos = 0\n",
    "        currProbMatrix = lineup[currBatterPos]\n",
    "        \n",
    "        for inning in range(9):\n",
    "            \n",
    "            currState = \"000 0\"\n",
    "            \n",
    "            while currState != \"3\":\n",
    "\n",
    "                dist = currProbMatrix[statesNamesR.index(currState)]\n",
    "                \n",
    "                result = np.random.choice(np.arange(0, c), p=dist)\n",
    "\n",
    "                resultingRuns = runsMatrix[statesNamesR.index(currState)][result]\n",
    "                totalRuns += resultingRuns\n",
    "                \n",
    "                currState = statesNamesC[result]\n",
    "                currBatterPos += 1\n",
    "                currBatterPos = currBatterPos % 9\n",
    "                currProbMatrix = lineup[currBatterPos]\n",
    "                \n",
    "    return totalRuns / games\n",
    "\n",
    "def compare(lineup1, lineup2, iter=100):\n",
    "    \n",
    "    array1 = []\n",
    "    array2 = []\n",
    "    \n",
    "    for i in range(iter):\n",
    "        \n",
    "        array1.append(batting_sim(lineup1))\n",
    "        array2.append(batting_sim(lineup2))\n",
    "        \n",
    "    return array1, array2"
   ]
  },
  {
   "cell_type": "code",
   "execution_count": 28,
   "id": "4e07c1aa-9079-4f4d-aa49-e7c213c72cbb",
   "metadata": {},
   "outputs": [],
   "source": [
    "mhaniger = pd.read_csv(\"mhaniger.csv\")\n",
    "mhaniger = mhaniger.drop('Unnamed: 0', axis=1)\n",
    "mhaniger = mhaniger.to_numpy()\n",
    "jsegura = pd.read_csv(\"jsegura.csv\")\n",
    "jsegura = jsegura.drop('Unnamed: 0', axis=1)\n",
    "jsegura = jsegura.to_numpy()\n",
    "rcano = pd.read_csv(\"rcano.csv\")\n",
    "rcano = rcano.drop('Unnamed: 0', axis=1)\n",
    "rcano = rcano.to_numpy()\n",
    "ncruz = pd.read_csv(\"ncruz.csv\")\n",
    "ncruz = ncruz.drop('Unnamed: 0', axis=1)\n",
    "ncruz = ncruz.to_numpy()\n",
    "kseager = pd.read_csv(\"kseager.csv\")\n",
    "kseager = kseager.drop('Unnamed: 0', axis=1)\n",
    "kseager = kseager.to_numpy()\n",
    "rhealy = pd.read_csv(\"rhealy.csv\")\n",
    "rhealy = rhealy.drop('Unnamed: 0', axis=1)\n",
    "rhealy = rhealy.to_numpy()\n",
    "dspan = pd.read_csv(\"dspan.csv\")\n",
    "dspan = dspan.drop('Unnamed: 0', axis=1)\n",
    "dspan = dspan.to_numpy()\n",
    "mzunino = pd.read_csv(\"mzunino.csv\")\n",
    "mzunino = mzunino.drop('Unnamed: 0', axis=1)\n",
    "mzunino = mzunino.to_numpy()\n",
    "\n",
    "lineup1 = [mhaniger, jsegura, rcano, ncruz, kseager, rhealy, dspan, mzunino, matGordon]\n",
    "lineup2 = [mhaniger, jsegura, rcano, ncruz, kseager, rhealy, dspan, mzunino, matGamel]\n",
    "\n",
    "resultsGordon, resultsGamel = compare(lineup1, lineup2, 100)"
   ]
  },
  {
   "cell_type": "code",
   "execution_count": 29,
   "id": "3fb48a4b-2937-4356-89e0-e771783ed3bc",
   "metadata": {},
   "outputs": [
    {
     "data": {
      "text/plain": [
       "Text(0, 0.5, 'Runs per Game')"
      ]
     },
     "execution_count": 29,
     "metadata": {},
     "output_type": "execute_result"
    },
    {
     "data": {
      "image/png": "[encoded data removed]",
      "text/plain": [
       "<Figure size 432x288 with 1 Axes>"
      ]
     },
     "metadata": {
      "needs_background": "light"
     },
     "output_type": "display_data"
    }
   ],
   "source": [
    "plt.scatter(np.arange(0,100),resultsGordon,label=\"lineup w/Gordon\", color = \"blue\")\n",
    "plt.axhline(y = np.mean(resultsGordon), linestyle = '-', color = \"blue\", label=\"lineup w/Gordon\")\n",
    "plt.scatter(np.arange(0,100),resultsGamel,label=\"lineup w/Gamel\", color = \"teal\")\n",
    "plt.axhline(y = np.mean(resultsGamel), linestyle = '-', color = \"teal\", label=\"lineup w/Gamel\")\n",
    "plt.legend()\n",
    "plt.title(\"100 Simulated Seasons: Gordon vs. Gamel\")\n",
    "plt.xlabel(\"Season ID (Arbitrary)\")\n",
    "plt.ylabel(\"Runs per Game\")\n"
   ]
  },
  {
   "cell_type": "code",
   "execution_count": 66,
   "id": "0a9e4694-f70b-495d-aa84-21dd7d006426",
   "metadata": {},
   "outputs": [
    {
     "name": "stderr",
     "output_type": "stream",
     "text": [
      "[NbConvertApp] Converting notebook HW08.ipynb to html\n",
      "[NbConvertApp] Writing 650843 bytes to HW08.html\n"
     ]
    }
   ],
   "source": [
    "!jupyter nbconvert --execute --to html HW08.ipynb"
   ]
  },
  {
   "cell_type": "code",
   "execution_count": null,
   "id": "0074a57c-4ec7-4d38-9a13-2c357de5015c",
   "metadata": {},
   "outputs": [],
   "source": []
  }
 ],
 "metadata": {
  "kernelspec": {
   "display_name": "Python 3 (ipykernel)",
   "language": "python",
   "name": "python3"
  },
  "language_info": {
   "codemirror_mode": {
    "name": "ipython",
    "version": 3
   },
   "file_extension": ".py",
   "mimetype": "text/x-python",
   "name": "python",
   "nbconvert_exporter": "python",
   "pygments_lexer": "ipython3",
   "version": "3.9.12"
  }
 },
 "nbformat": 4,
 "nbformat_minor": 5
}
